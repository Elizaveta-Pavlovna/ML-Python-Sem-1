{
 "cells": [
  {
   "cell_type": "code",
   "execution_count": 1,
   "id": "9590dc58",
   "metadata": {},
   "outputs": [],
   "source": [
    "import pandas as pd\n",
    "import numpy as np\n",
    "import matplotlib\n",
    "import matplotlib.pyplot as plt\n",
    "from scipy import stats\n",
    "\n",
    "#  matplotlib.style.use('ggplot')\n",
    "%matplotlib inline"
   ]
  },
  {
   "cell_type": "code",
   "execution_count": 2,
   "id": "ba4b01dd",
   "metadata": {},
   "outputs": [
    {
     "data": {
      "text/html": [
       "<div>\n",
       "<style scoped>\n",
       "    .dataframe tbody tr th:only-of-type {\n",
       "        vertical-align: middle;\n",
       "    }\n",
       "\n",
       "    .dataframe tbody tr th {\n",
       "        vertical-align: top;\n",
       "    }\n",
       "\n",
       "    .dataframe thead th {\n",
       "        text-align: right;\n",
       "    }\n",
       "</style>\n",
       "<table border=\"1\" class=\"dataframe\">\n",
       "  <thead>\n",
       "    <tr style=\"text-align: right;\">\n",
       "      <th></th>\n",
       "      <th>STATE</th>\n",
       "      <th>DENS</th>\n",
       "      <th>COMP</th>\n",
       "      <th>RTW</th>\n",
       "      <th>PVT</th>\n",
       "    </tr>\n",
       "  </thead>\n",
       "  <tbody>\n",
       "    <tr>\n",
       "      <th>0</th>\n",
       "      <td>NY</td>\n",
       "      <td>56.9</td>\n",
       "      <td>1</td>\n",
       "      <td>0</td>\n",
       "      <td>31.2</td>\n",
       "    </tr>\n",
       "    <tr>\n",
       "      <th>1</th>\n",
       "      <td>MI</td>\n",
       "      <td>49.6</td>\n",
       "      <td>1</td>\n",
       "      <td>0</td>\n",
       "      <td>30.2</td>\n",
       "    </tr>\n",
       "    <tr>\n",
       "      <th>2</th>\n",
       "      <td>WA</td>\n",
       "      <td>32.4</td>\n",
       "      <td>1</td>\n",
       "      <td>0</td>\n",
       "      <td>33.1</td>\n",
       "    </tr>\n",
       "    <tr>\n",
       "      <th>3</th>\n",
       "      <td>HI</td>\n",
       "      <td>54.6</td>\n",
       "      <td>1</td>\n",
       "      <td>0</td>\n",
       "      <td>24.7</td>\n",
       "    </tr>\n",
       "    <tr>\n",
       "      <th>4</th>\n",
       "      <td>AK</td>\n",
       "      <td>30.7</td>\n",
       "      <td>1</td>\n",
       "      <td>0</td>\n",
       "      <td>30.1</td>\n",
       "    </tr>\n",
       "  </tbody>\n",
       "</table>\n",
       "</div>"
      ],
      "text/plain": [
       "  STATE  DENS  COMP  RTW   PVT\n",
       "0    NY  56.9     1    0  31.2\n",
       "1    MI  49.6     1    0  30.2\n",
       "2    WA  32.4     1    0  33.1\n",
       "3    HI  54.6     1    0  24.7\n",
       "4    AK  30.7     1    0  30.1"
      ]
     },
     "execution_count": 2,
     "metadata": {},
     "output_type": "execute_result"
    }
   ],
   "source": [
    "state = pd.read_csv('Unions and State Labor Law/data.csv', sep = '\\s+')\n",
    "state.head()"
   ]
  },
  {
   "cell_type": "markdown",
   "id": "df7bbd0a",
   "metadata": {},
   "source": [
    "DENS: Процент работников государственного сектора в профсоюзах, 1982 г.\n",
    "\n",
    "COMP: законы штата о ведении переговоров распространяются на государственных служащих (1) или нет (0)\n",
    "\n",
    "RTW: Закон штата о праве на труд (1) или нет (0)\n",
    "\n",
    "PVT: Процент работников частного сектора в профсоюзах, 1982 г.\n",
    "\n",
    "Я буду сравнивать столбцы DENS и COMP"
   ]
  },
  {
   "cell_type": "code",
   "execution_count": 3,
   "id": "475c757b",
   "metadata": {},
   "outputs": [
    {
     "data": {
      "text/plain": [
       "STATE     object\n",
       "DENS     float64\n",
       "COMP       int64\n",
       "RTW        int64\n",
       "PVT      float64\n",
       "dtype: object"
      ]
     },
     "execution_count": 3,
     "metadata": {},
     "output_type": "execute_result"
    }
   ],
   "source": [
    "state.dtypes"
   ]
  },
  {
   "cell_type": "code",
   "execution_count": 21,
   "id": "faa4f13d",
   "metadata": {},
   "outputs": [
    {
     "data": {
      "text/plain": [
       "50"
      ]
     },
     "execution_count": 21,
     "metadata": {},
     "output_type": "execute_result"
    }
   ],
   "source": [
    "len(state)"
   ]
  },
  {
   "cell_type": "code",
   "execution_count": 30,
   "id": "6d48a200",
   "metadata": {},
   "outputs": [],
   "source": [
    "x = state[state['COMP'] == 1]['DENS']\n",
    "y = state[state['COMP'] == 0]['DENS']\n",
    "x.name, y.name = 'app', 'no-app'"
   ]
  },
  {
   "cell_type": "code",
   "execution_count": 31,
   "id": "a98c951a",
   "metadata": {},
   "outputs": [
    {
     "data": {
      "text/plain": [
       "27"
      ]
     },
     "execution_count": 31,
     "metadata": {},
     "output_type": "execute_result"
    }
   ],
   "source": [
    "len(x)"
   ]
  },
  {
   "cell_type": "code",
   "execution_count": 32,
   "id": "a8dbd98a",
   "metadata": {},
   "outputs": [
    {
     "data": {
      "text/plain": [
       "23"
      ]
     },
     "execution_count": 32,
     "metadata": {},
     "output_type": "execute_result"
    }
   ],
   "source": [
    "len(y)"
   ]
  },
  {
   "cell_type": "markdown",
   "id": "207f98f4",
   "metadata": {},
   "source": [
    "Построим гистограмму (app - applies - распространяться). И сразу зададим уровень значимости - 0.05"
   ]
  },
  {
   "cell_type": "code",
   "execution_count": 33,
   "id": "e700207b",
   "metadata": {},
   "outputs": [],
   "source": [
    "def two_histograms(x, y):\n",
    "    x.hist(alpha=0.5, weights=[1./len(x)]*len(x))\n",
    "    y.hist(alpha=0.5, weights=[1./len(y)]*len(y))\n",
    "    plt.axvline(x.mean(), color='blue', alpha=0.8, linestyle='dashed')\n",
    "    plt.axvline(y.mean(), color='orange', alpha=0.8, linestyle='dashed')\n",
    "    plt.legend([x.name, y.name])"
   ]
  },
  {
   "cell_type": "code",
   "execution_count": 34,
   "id": "da9a21b2",
   "metadata": {},
   "outputs": [
    {
     "data": {
      "image/png": "[encoded data removed]",
      "text/plain": [
       "<Figure size 432x288 with 1 Axes>"
      ]
     },
     "metadata": {
      "needs_background": "light"
     },
     "output_type": "display_data"
    }
   ],
   "source": [
    "two_histograms(x, y)"
   ]
  },
  {
   "cell_type": "markdown",
   "id": "be09bc63",
   "metadata": {},
   "source": [
    "Для первой выборки (закон распространяется) почти отсутствует колокообразная форма графика гистограммы. Во второй выборке (закон не распростроняется) ярко выражена ассиметрия гистограммы (уклон в левую сторону) и возможны выбросы справа, но это не точно. \n",
    "\n",
    "Можно сделать вывод, что хотя бы для одной выборки присутствует существенное отклонение. Значит рассматривать будем гипотезу о равенстве медиан. Критерий Уилкоксона мы применить не сможем, так как выборки разных длин."
   ]
  },
  {
   "cell_type": "markdown",
   "id": "684347ec",
   "metadata": {},
   "source": [
    "Критерий Манна-Уитни"
   ]
  },
  {
   "cell_type": "code",
   "execution_count": 35,
   "id": "6857f0f6",
   "metadata": {},
   "outputs": [
    {
     "name": "stdout",
     "output_type": "stream",
     "text": [
      "p-value: 0.0019653510337949466\n"
     ]
    }
   ],
   "source": [
    "res_mw = stats.mannwhitneyu(x, y)\n",
    "print('p-value:', res_mw[1])"
   ]
  },
  {
   "cell_type": "markdown",
   "id": "c9ccba00",
   "metadata": {},
   "source": [
    "p-value получилось меньше уровня значимости, поэтому отвергаем гипотезу о равенстве медиан. \n",
    "Вывод: процент работников государственного сектора в профсоюзах зависит от распространения закона."
   ]
  },
  {
   "cell_type": "markdown",
   "id": "7bc804ec",
   "metadata": {},
   "source": [
    "Критерий Муда (хотя лучше его не использовать, потому что наблюдений не так много)"
   ]
  },
  {
   "cell_type": "code",
   "execution_count": 36,
   "id": "85acc2e9",
   "metadata": {},
   "outputs": [
    {
     "name": "stdout",
     "output_type": "stream",
     "text": [
      "p-value: 0.023206526406763062\n"
     ]
    }
   ],
   "source": [
    "res_m = stats.median_test(x, y)\n",
    "print('p-value:', res_m[1])"
   ]
  },
  {
   "cell_type": "markdown",
   "id": "6950b8f0",
   "metadata": {},
   "source": [
    "По критерию Муда можно сделать аналогичный вывод. Хотя, если бы мы выбрали уровень значимости 0.01, то выводы критерией различались."
   ]
  },
  {
   "cell_type": "markdown",
   "id": "9d3457ba",
   "metadata": {},
   "source": [
    "Но так как к ассиметрии и к отсутствию колокообразной формы (в случае, если наблюдений меньше 150) нужно отнестись \n",
    "снисходительно, проверим выборки на нормальность распределения. Если обе выборки распределены нормально, рассмотрим гипотезы о равенстве дисперсий и средних."
   ]
  },
  {
   "cell_type": "code",
   "execution_count": 37,
   "id": "f4a7cd04",
   "metadata": {},
   "outputs": [
    {
     "name": "stdout",
     "output_type": "stream",
     "text": [
      "p-value:  0.7401027679443359\n"
     ]
    }
   ],
   "source": [
    "res_x = stats.shapiro(x)\n",
    "print('p-value: ', res_x[1])"
   ]
  },
  {
   "cell_type": "code",
   "execution_count": 38,
   "id": "3318b4c7",
   "metadata": {},
   "outputs": [
    {
     "name": "stdout",
     "output_type": "stream",
     "text": [
      "p-value:  0.943257212638855\n"
     ]
    }
   ],
   "source": [
    "res_y = stats.shapiro(y)\n",
    "print('p-value: ', res_y[1])"
   ]
  },
  {
   "cell_type": "markdown",
   "id": "f3893c62",
   "metadata": {},
   "source": [
    "Для обеих выборок p-value больше уровня значимости (0.05), поэтому нет оснований отвергнуть гипотезу о нормальной распределенности выборок."
   ]
  },
  {
   "cell_type": "code",
   "execution_count": 40,
   "id": "be02fe97",
   "metadata": {},
   "outputs": [
    {
     "name": "stdout",
     "output_type": "stream",
     "text": [
      "p-value:  0.0008111406933692372\n"
     ]
    }
   ],
   "source": [
    "res_i = stats.ttest_ind(x, y, equal_var=True)\n",
    "print('p-value: ', res_i[1])"
   ]
  },
  {
   "cell_type": "markdown",
   "id": "eecf07f8",
   "metadata": {},
   "source": [
    "Значение p-value достаточно мало, поэтому отвергаем гипотезу о равенстве средних. Вывод: годовой оклад медсестры зависит от расположения больницы."
   ]
  },
  {
   "cell_type": "code",
   "execution_count": 41,
   "id": "8f662e2c",
   "metadata": {},
   "outputs": [],
   "source": [
    "import matplotlib\n",
    "import matplotlib.pyplot as plt\n",
    "\n",
    "#  выбор темы картинок на Ваш вкус. Необязательная строчка.\n",
    "#  matplotlib.style.use('ggplot')\n",
    "plt.style.use('seaborn')\n",
    "\n",
    "#  Еще одна графическая библиотека\n",
    "import seaborn as sns"
   ]
  },
  {
   "cell_type": "code",
   "execution_count": 42,
   "id": "134c0126",
   "metadata": {},
   "outputs": [
    {
     "data": {
      "image/png": "[encoded data removed]",
      "text/plain": [
       "<Figure size 576x396 with 1 Axes>"
      ]
     },
     "metadata": {},
     "output_type": "display_data"
    }
   ],
   "source": [
    "plt.boxplot ([x, y])\n",
    "plt.show();"
   ]
  },
  {
   "cell_type": "markdown",
   "id": "ffbedbbb",
   "metadata": {},
   "source": [
    "Для наглядности, изобразим выборки на ящиковой диаграмме."
   ]
  }
 ],
 "metadata": {
  "kernelspec": {
   "display_name": "Python 3 (ipykernel)",
   "language": "python",
   "name": "python3"
  },
  "language_info": {
   "codemirror_mode": {
    "name": "ipython",
    "version": 3
   },
   "file_extension": ".py",
   "mimetype": "text/x-python",
   "name": "python",
   "nbconvert_exporter": "python",
   "pygments_lexer": "ipython3",
   "version": "3.10.6"
  }
 },
 "nbformat": 4,
 "nbformat_minor": 5
}
