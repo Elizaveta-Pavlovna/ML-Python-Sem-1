{
 "cells": [
  {
   "cell_type": "code",
   "execution_count": 2,
   "id": "04ba5201",
   "metadata": {},
   "outputs": [],
   "source": [
    "import pandas as pd\n",
    "import numpy as np\n",
    "import matplotlib\n",
    "import matplotlib.pyplot as plt\n",
    "from scipy import stats\n",
    "\n",
    "#  matplotlib.style.use('ggplot')\n",
    "%matplotlib inline"
   ]
  },
  {
   "cell_type": "code",
   "execution_count": 4,
   "id": "ac8157c4",
   "metadata": {},
   "outputs": [
    {
     "data": {
      "text/html": [
       "<div>\n",
       "<style scoped>\n",
       "    .dataframe tbody tr th:only-of-type {\n",
       "        vertical-align: middle;\n",
       "    }\n",
       "\n",
       "    .dataframe tbody tr th {\n",
       "        vertical-align: top;\n",
       "    }\n",
       "\n",
       "    .dataframe thead th {\n",
       "        text-align: right;\n",
       "    }\n",
       "</style>\n",
       "<table border=\"1\" class=\"dataframe\">\n",
       "  <thead>\n",
       "    <tr style=\"text-align: right;\">\n",
       "      <th></th>\n",
       "      <th>BED</th>\n",
       "      <th>MCDAYS</th>\n",
       "      <th>TDAYS</th>\n",
       "      <th>PCREV</th>\n",
       "      <th>NSAL</th>\n",
       "      <th>FEXP</th>\n",
       "      <th>RURAL</th>\n",
       "    </tr>\n",
       "  </thead>\n",
       "  <tbody>\n",
       "    <tr>\n",
       "      <th>0</th>\n",
       "      <td>244</td>\n",
       "      <td>128</td>\n",
       "      <td>385</td>\n",
       "      <td>23521</td>\n",
       "      <td>5230</td>\n",
       "      <td>5334</td>\n",
       "      <td>0</td>\n",
       "    </tr>\n",
       "    <tr>\n",
       "      <th>1</th>\n",
       "      <td>59</td>\n",
       "      <td>155</td>\n",
       "      <td>203</td>\n",
       "      <td>9160</td>\n",
       "      <td>2459</td>\n",
       "      <td>493</td>\n",
       "      <td>1</td>\n",
       "    </tr>\n",
       "    <tr>\n",
       "      <th>2</th>\n",
       "      <td>120</td>\n",
       "      <td>281</td>\n",
       "      <td>392</td>\n",
       "      <td>21900</td>\n",
       "      <td>6304</td>\n",
       "      <td>6115</td>\n",
       "      <td>0</td>\n",
       "    </tr>\n",
       "    <tr>\n",
       "      <th>3</th>\n",
       "      <td>120</td>\n",
       "      <td>291</td>\n",
       "      <td>419</td>\n",
       "      <td>22354</td>\n",
       "      <td>6590</td>\n",
       "      <td>6346</td>\n",
       "      <td>0</td>\n",
       "    </tr>\n",
       "    <tr>\n",
       "      <th>4</th>\n",
       "      <td>120</td>\n",
       "      <td>238</td>\n",
       "      <td>363</td>\n",
       "      <td>17421</td>\n",
       "      <td>5362</td>\n",
       "      <td>6225</td>\n",
       "      <td>0</td>\n",
       "    </tr>\n",
       "  </tbody>\n",
       "</table>\n",
       "</div>"
      ],
      "text/plain": [
       "   BED  MCDAYS  TDAYS  PCREV  NSAL  FEXP  RURAL\n",
       "0  244     128    385  23521  5230  5334      0\n",
       "1   59     155    203   9160  2459   493      1\n",
       "2  120     281    392  21900  6304  6115      0\n",
       "3  120     291    419  22354  6590  6346      0\n",
       "4  120     238    363  17421  5362  6225      0"
      ]
     },
     "execution_count": 4,
     "metadata": {},
     "output_type": "execute_result"
    }
   ],
   "source": [
    "nurse = pd.read_excel('Nursing Home Data/data.xlsx')\n",
    "nurse.head()"
   ]
  },
  {
   "cell_type": "code",
   "execution_count": 5,
   "id": "e6ffc384",
   "metadata": {},
   "outputs": [
    {
     "data": {
      "text/plain": [
       "52"
      ]
     },
     "execution_count": 5,
     "metadata": {},
     "output_type": "execute_result"
    }
   ],
   "source": [
    "len(nurse)"
   ]
  },
  {
   "cell_type": "code",
   "execution_count": 6,
   "id": "e8ac2af1",
   "metadata": {},
   "outputs": [],
   "source": [
    "x = nurse[nurse['RURAL'] == 1]['NSAL']\n",
    "y = nurse[nurse['RURAL'] == 0]['NSAL']\n",
    "x.name, y.name = 'rural', 'non-rural'"
   ]
  },
  {
   "cell_type": "markdown",
   "id": "1a9d054f",
   "metadata": {},
   "source": [
    "Построим гистограмму (rural - загородный). И сразу зададим уровень значимости - 0.05"
   ]
  },
  {
   "cell_type": "code",
   "execution_count": 9,
   "id": "000f3776",
   "metadata": {},
   "outputs": [],
   "source": [
    "def two_histograms(x, y):\n",
    "    x.hist(alpha=0.5, weights=[1./len(x)]*len(x))\n",
    "    y.hist(alpha=0.5, weights=[1./len(y)]*len(y))\n",
    "    plt.axvline(x.mean(), color='blue', alpha=0.8, linestyle='dashed')\n",
    "    plt.axvline(y.mean(), color='orange', alpha=0.8, linestyle='dashed')\n",
    "    plt.legend([x.name, y.name])"
   ]
  },
  {
   "cell_type": "code",
   "execution_count": 10,
   "id": "cfdc094d",
   "metadata": {},
   "outputs": [
    {
     "data": {
      "image/png": "[encoded data removed]",
      "text/plain": [
       "<Figure size 432x288 with 1 Axes>"
      ]
     },
     "metadata": {
      "needs_background": "light"
     },
     "output_type": "display_data"
    }
   ],
   "source": [
    "two_histograms(x, y)"
   ]
  },
  {
   "cell_type": "code",
   "execution_count": 11,
   "id": "f4687f78",
   "metadata": {},
   "outputs": [
    {
     "data": {
      "text/plain": [
       "34"
      ]
     },
     "execution_count": 11,
     "metadata": {},
     "output_type": "execute_result"
    }
   ],
   "source": [
    "len(x)"
   ]
  },
  {
   "cell_type": "code",
   "execution_count": 12,
   "id": "7dab930d",
   "metadata": {},
   "outputs": [
    {
     "data": {
      "text/plain": [
       "18"
      ]
     },
     "execution_count": 12,
     "metadata": {},
     "output_type": "execute_result"
    }
   ],
   "source": [
    "len(y)"
   ]
  },
  {
   "cell_type": "markdown",
   "id": "4172a6c3",
   "metadata": {},
   "source": [
    "В первой выборке (загородных больниц) ярко выражена ассиметрия гистограммы (уклон в правую сторону), для городских же больниц вообще почти отсутствует колокообразная форма графика гистограммы. Из чего можно сделать вывод, что хотя бы для одной выборки присутствует существенное отклонение. Значит рассматривать будем гипотезу о равенстве медиан. Критерий Уилкоксона мы применить не сможем, так как выборки разных длин."
   ]
  },
  {
   "cell_type": "markdown",
   "id": "414510b5",
   "metadata": {},
   "source": [
    "Критерий Манна-Уитни"
   ]
  },
  {
   "cell_type": "code",
   "execution_count": 133,
   "id": "2b7091cf",
   "metadata": {},
   "outputs": [
    {
     "name": "stdout",
     "output_type": "stream",
     "text": [
      "p-value: 0.0017745599734812778\n"
     ]
    }
   ],
   "source": [
    "res_mw = stats.mannwhitneyu(x, y)\n",
    "print('p-value:', res_mw[1])"
   ]
  },
  {
   "cell_type": "markdown",
   "id": "6ded585f",
   "metadata": {},
   "source": [
    "p-value получилось меньше уровня значимости, поэтому отвергаем гипотезу о равенстве медиан. \n",
    "Вывод: годовые оклады медсестер зависят от расположения больницы."
   ]
  },
  {
   "cell_type": "markdown",
   "id": "5c05a0e4",
   "metadata": {},
   "source": [
    "Критерий Муда (хотя лучше его не использовать, потому что наблюдений не так много)"
   ]
  },
  {
   "cell_type": "code",
   "execution_count": 134,
   "id": "0ab126dd",
   "metadata": {},
   "outputs": [
    {
     "name": "stdout",
     "output_type": "stream",
     "text": [
      "p-value: 0.04130644086871966\n"
     ]
    }
   ],
   "source": [
    "res_m = stats.median_test(x, y)\n",
    "print('p-value:', res_m[1])"
   ]
  },
  {
   "cell_type": "markdown",
   "id": "3c4b0d43",
   "metadata": {},
   "source": [
    "По критерию Муда можно сделать аналогичный вывод. Хотя, если бы мы выбрали уровень значимости 0.01, то выводы критерией различались."
   ]
  },
  {
   "cell_type": "markdown",
   "id": "361ffd52",
   "metadata": {},
   "source": [
    "Но так как к ассиметрии и к отсутствию колокообразной формы (в случае, если наблюдений меньше 150) нужно отнестись \n",
    "снисходительно, проверим выборки на нормальность распределения. Если обе выборки распределены нормально, рассмотрим гипотезы о равенстве дисперсий и средних."
   ]
  },
  {
   "cell_type": "code",
   "execution_count": 135,
   "id": "5e80b891",
   "metadata": {},
   "outputs": [
    {
     "name": "stdout",
     "output_type": "stream",
     "text": [
      "p-value:  0.0717819407582283\n"
     ]
    }
   ],
   "source": [
    "res_x = stats.shapiro(x)\n",
    "print('p-value: ', res_x[1])"
   ]
  },
  {
   "cell_type": "code",
   "execution_count": 136,
   "id": "c4d48c99",
   "metadata": {},
   "outputs": [
    {
     "name": "stdout",
     "output_type": "stream",
     "text": [
      "p-value:  0.2665903866291046\n"
     ]
    }
   ],
   "source": [
    "res_y = stats.shapiro(y)\n",
    "print('p-value: ', res_y[1])"
   ]
  },
  {
   "cell_type": "markdown",
   "id": "a7503d46",
   "metadata": {},
   "source": [
    "Для обеих выборок p-value больше уровня значимости (0.05), поэтому нет оснований отвергнуть гипотезу о нормальной распределенности выборок."
   ]
  },
  {
   "cell_type": "code",
   "execution_count": 137,
   "id": "03584af0",
   "metadata": {},
   "outputs": [
    {
     "name": "stdout",
     "output_type": "stream",
     "text": [
      "p-value:  0.05254860862708049\n"
     ]
    }
   ],
   "source": [
    "res_d = stats.fligner(x, y)\n",
    "print('p-value: ', res_d[1])"
   ]
  },
  {
   "cell_type": "markdown",
   "id": "6d8c35fe",
   "metadata": {},
   "source": [
    "Значение p-value больше уровня значимости (0.05), поэтому гипотезу о равенстве дисперсий не отвергаем. В двух выборках находятся разные объекты, значит выборки независимые."
   ]
  },
  {
   "cell_type": "code",
   "execution_count": 138,
   "id": "7d0faf7d",
   "metadata": {},
   "outputs": [
    {
     "name": "stdout",
     "output_type": "stream",
     "text": [
      "p-value:  0.0005409523097389856\n"
     ]
    }
   ],
   "source": [
    "res_i = stats.ttest_ind(x, y, equal_var=True)\n",
    "print('p-value: ', res_i[1])"
   ]
  },
  {
   "cell_type": "markdown",
   "id": "d97b7d6b",
   "metadata": {},
   "source": [
    "Значение p-value достаточно мало, поэтому отвергаем гипотезу о равенстве средних. Вывод: годовой оклад медсестры зависит от расположения больницы."
   ]
  },
  {
   "cell_type": "code",
   "execution_count": 139,
   "id": "44c2c97b",
   "metadata": {},
   "outputs": [],
   "source": [
    "import matplotlib\n",
    "import matplotlib.pyplot as plt\n",
    "\n",
    "#  выбор темы картинок на Ваш вкус. Необязательная строчка.\n",
    "#  matplotlib.style.use('ggplot')\n",
    "plt.style.use('seaborn')\n",
    "\n",
    "#  Еще одна графическая библиотека\n",
    "import seaborn as sns"
   ]
  },
  {
   "cell_type": "code",
   "execution_count": 159,
   "id": "a55d3c64",
   "metadata": {},
   "outputs": [
    {
     "data": {
      "image/png": "[encoded data removed]",
      "text/plain": [
       "<Figure size 576x396 with 1 Axes>"
      ]
     },
     "metadata": {},
     "output_type": "display_data"
    }
   ],
   "source": [
    "plt.boxplot ([x, y])\n",
    "plt.show();"
   ]
  },
  {
   "cell_type": "markdown",
   "id": "2658a2d9",
   "metadata": {},
   "source": [
    "Для наглядности, изобразим выборки на ящиковой диаграмме."
   ]
  }
 ],
 "metadata": {
  "kernelspec": {
   "display_name": "Python 3 (ipykernel)",
   "language": "python",
   "name": "python3"
  },
  "language_info": {
   "codemirror_mode": {
    "name": "ipython",
    "version": 3
   },
   "file_extension": ".py",
   "mimetype": "text/x-python",
   "name": "python",
   "nbconvert_exporter": "python",
   "pygments_lexer": "ipython3",
   "version": "3.10.6"
  }
 },
 "nbformat": 4,
 "nbformat_minor": 5
}
